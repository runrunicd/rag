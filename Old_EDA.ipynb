{
 "cells": [
  {
   "cell_type": "code",
   "execution_count": 1,
   "id": "6dd5f972",
   "metadata": {
    "collapsed": false,
    "jupyter": {
     "outputs_hidden": false
    },
    "pycharm": {
     "name": "#%%\n"
    }
   },
   "outputs": [
    {
     "ename": "ModuleNotFoundError",
     "evalue": "No module named 'networkx'",
     "output_type": "error",
     "traceback": [
      "\u001b[0;31m---------------------------------------------------------------------------\u001b[0m",
      "\u001b[0;31mModuleNotFoundError\u001b[0m                       Traceback (most recent call last)",
      "Cell \u001b[0;32mIn[1], line 7\u001b[0m\n\u001b[1;32m      5\u001b[0m \u001b[38;5;28;01mimport\u001b[39;00m \u001b[38;5;21;01mcsv\u001b[39;00m\n\u001b[1;32m      6\u001b[0m \u001b[38;5;28;01mimport\u001b[39;00m \u001b[38;5;21;01mos\u001b[39;00m\n\u001b[0;32m----> 7\u001b[0m \u001b[38;5;28;01mimport\u001b[39;00m \u001b[38;5;21;01mnetworkx\u001b[39;00m \u001b[38;5;28;01mas\u001b[39;00m \u001b[38;5;21;01mnx\u001b[39;00m\n\u001b[1;32m      8\u001b[0m \u001b[38;5;28;01mfrom\u001b[39;00m \u001b[38;5;21;01msubprocess\u001b[39;00m \u001b[38;5;28;01mimport\u001b[39;00m check_output\n\u001b[1;32m      9\u001b[0m \u001b[38;5;28;01mfrom\u001b[39;00m \u001b[38;5;21;01mwordcloud\u001b[39;00m \u001b[38;5;28;01mimport\u001b[39;00m WordCloud, STOPWORDS\n",
      "\u001b[0;31mModuleNotFoundError\u001b[0m: No module named 'networkx'"
     ]
    }
   ],
   "source": [
    "import numpy as np \n",
    "import pandas as pd \n",
    "import seaborn as sns\n",
    "import matplotlib.pyplot as plt\n",
    "import csv\n",
    "import os\n",
    "import networkx as nx\n",
    "from subprocess import check_output\n",
    "from wordcloud import WordCloud, STOPWORDS\n",
    "import tensorflow as tf\n",
    "from IPython.display import YouTubeVideo\n",
    "plt.style.use('ggplot')"
   ]
  },
  {
   "cell_type": "code",
   "execution_count": null,
   "id": "3041f11c",
   "metadata": {
    "collapsed": false,
    "jupyter": {
     "outputs_hidden": false
    },
    "pycharm": {
     "name": "#%%\n"
    }
   },
   "outputs": [],
   "source": [
    "DATA_PATH = \"/Users/runzhou/Desktop/youtube/data/yt8m/video/\"\n",
    "# Inspect data directory\n",
    "print(os.listdir(DATA_PATH))\n",
    "\n",
    "# Explore video-level data\n",
    "video_lvl_data_path = DATA_PATH + \"train0274.tfrecord\"\n",
    "raw_dataset = tf.data.TFRecordDataset(video_lvl_data_path)\n",
    "\n",
    "\n",
    "vid_ids = []\n",
    "labels = []\n",
    "rgb = []\n",
    "audio = []\n",
    "\n",
    "for example in tf.compat.v1.python_io.tf_record_iterator(video_lvl_data_path):\n",
    "    seq_example = tf.train.Example.FromString(example)\n",
    "    vid_ids.append(seq_example.features.feature['id'].bytes_list.value[0].decode(encoding='UTF-8'))\n",
    "    labels.append(seq_example.features.feature['labels'].int64_list.value)\n",
    "    rgb.append(seq_example.features.feature['mean_rgb'].float_list.value)\n",
    "    audio.append(seq_example.features.feature['mean_audio'].float_list.value)\n",
    "\n",
    "print('Number of videos in this tfrecord: ',len(vid_ids))\n",
    "print ('Number of labels in this tfrecord: ', len (labels))\n",
    "print('Number of mean RGB in this tfrecord: ', len(rgb))\n",
    "print('Number of mean audio in this tfrecord: ', len(audio))\n",
    "print('Picking a youtube video id:', vid_ids[1])"
   ]
  },
  {
   "cell_type": "code",
   "execution_count": null,
   "id": "edac8876",
   "metadata": {
    "collapsed": false,
    "jupyter": {
     "outputs_hidden": false
    },
    "pycharm": {
     "name": "#%%\n"
    }
   },
   "outputs": [],
   "source": [
    "DATA_PATH = \"/Users/runzhou/Desktop/youtube/data/yt8m/frame/\"\n",
    "# Inspect frame-level data directory\n",
    "print(os.listdir(DATA_PATH))\n",
    "\n",
    "import tensorflow as tf\n",
    "\n",
    "# Explore frame-level data\n",
    "frame_lvl_data_path = DATA_PATH + \"train0274.tfrecord\"\n",
    "raw_dataset = tf.data.TFRecordDataset(frame_lvl_data_path)\n",
    "\n",
    "vid_ids = []\n",
    "labels = []\n",
    "rgb = []\n",
    "audio = []\n",
    "\n",
    "for example in tf.compat.v1.python_io.tf_record_iterator(frame_lvl_data_path):\n",
    "    seq_example = tf.train.SequenceExample.FromString(example)\n",
    "    vid_ids.append(seq_example.context.feature['id'].bytes_list.value[0].decode(encoding='UTF-8'))\n",
    "    labels.append(seq_example.context.feature['labels'].int64_list.value)\n",
    "\n",
    "    # Decode RGB features\n",
    "    rgb_encoded = seq_example.feature_lists.feature_list['rgb'].feature[0].bytes_list.value[0]\n",
    "    rgb_decoded = tf.io.decode_raw(rgb_encoded, tf.float32)\n",
    "    rgb.append(rgb_decoded.numpy().tolist())\n",
    "\n",
    "    # Decode audio features\n",
    "    audio_encoded = seq_example.feature_lists.feature_list['audio'].feature[0].bytes_list.value[0]\n",
    "    audio_decoded = tf.io.decode_raw(audio_encoded, tf.float32)\n",
    "    audio.append(audio_decoded.numpy().tolist())\n",
    "\n",
    "print('Number of videos in this tfrecord: ',len(vid_ids))\n",
    "print ('Number of labels in this tfrecord: ', len (labels))\n",
    "print('Number of mean RGB in this tfrecord: ', len(rgb))\n",
    "print('Number of mean audio in this tfrecord: ', len(audio))\n",
    "print('Picking a youtube video id:', vid_ids[1])"
   ]
  },
  {
   "cell_type": "code",
   "execution_count": null,
   "id": "0c447e32",
   "metadata": {
    "collapsed": false,
    "jupyter": {
     "outputs_hidden": false
    },
    "pycharm": {
     "name": "#%%\n"
    }
   },
   "outputs": [],
   "source": [
    "DATA_PATH = \"/Users/runzhou/Desktop/youtube/data/yt8m/segment/\"\n",
    "\n",
    "# Inspect segment-level data directory\n",
    "print(os.listdir(DATA_PATH))\n",
    "\n",
    "# Explore segment-level data\n",
    "segment_lvl_data_path = DATA_PATH + \"validate3489.tfrecord\"\n",
    "raw_dataset = tf.data.TFRecordDataset(segment_lvl_data_path)\n",
    "\n",
    "vid_ids = []\n",
    "labels = []\n",
    "rgb = []\n",
    "audio = []\n",
    "segment_start_times = []\n",
    "segment_end_times = []\n",
    "segment_scores = []\n",
    "segment_labels = []\n",
    "\n",
    "\n",
    "for example in tf.compat.v1.python_io.tf_record_iterator(segment_lvl_data_path):\n",
    "    # Context features\n",
    "    example_example = tf.train.Example.FromString(example)\n",
    "    \n",
    "    vid_ids.append(example_example.features.feature['id'].bytes_list.value[0].decode(encoding='UTF-8'))\n",
    "    labels.append(example_example.features.feature['labels'].int64_list.value)\n",
    "\n",
    "    # Segment labels & scores\n",
    "    segment_start_times.append(example_example.features.feature['segment_start_times'].int64_list.value)\n",
    "    segment_end_times.append(example_example.features.feature['segment_end_times'].int64_list.value)\n",
    "    segment_labels.append(example_example.features.feature['segment_labels'].int64_list.value)\n",
    "\n",
    "    # Frame features\n",
    "    seq_example = tf.train.SequenceExample.FromString(example)\n",
    "\n",
    "    # Decode RGB features\n",
    "    rgb_encoded = seq_example.feature_lists.feature_list['rgb'].feature[0].bytes_list.value[0]\n",
    "    rgb_decoded = tf.io.decode_raw(rgb_encoded, tf.uint8)\n",
    "    rgb.append(rgb_decoded.numpy().tolist())\n",
    "\n",
    "    # Decode audio features\n",
    "    audio_encoded = seq_example.feature_lists.feature_list['audio'].feature[0].bytes_list.value[0]\n",
    "    audio_decoded = tf.io.decode_raw(audio_encoded, tf.uint8)\n",
    "    audio.append(audio_decoded.numpy().tolist())\n",
    "\n",
    "\n",
    "print('Number of videos in this tfrecord: ',len(vid_ids))\n",
    "print ('Number of labels in this tfrecord: ', len (labels))\n",
    "print('Number of mean RGB in this tfrecord: ', len(rgb))\n",
    "print('Number of mean audio in this tfrecord: ', len(audio))\n",
    "print('Picking a youtube video id:', vid_ids[1])\n"
   ]
  },
  {
   "cell_type": "code",
   "execution_count": null,
   "id": "c015774a",
   "metadata": {
    "collapsed": false,
    "jupyter": {
     "outputs_hidden": false
    },
    "pycharm": {
     "name": "#%%\n"
    }
   },
   "outputs": [],
   "source": [
    "#rgb: 8 x 1024\n",
    "#audio: 8 x 128\n",
    "len(audio[0])"
   ]
  },
  {
   "cell_type": "code",
   "execution_count": null,
   "id": "30c64bae",
   "metadata": {
    "collapsed": false,
    "jupyter": {
     "outputs_hidden": false
    },
    "pycharm": {
     "name": "#%%\n"
    }
   },
   "outputs": [],
   "source": [
    "# Translate video ID to Youtube URL\n",
    "import requests\n",
    "\n",
    "def translate_video_id(encoded_id):\n",
    "    # Construct the URL to retrieve the mapping\n",
    "    url = f\"http://data.yt8m.org/2/j/i/{encoded_id[:2]}/{encoded_id}.js\"\n",
    "    response = requests.get(url)\n",
    "\n",
    "    # Check if the response is successful and has the expected format\n",
    "    if response.status_code == 200 and 'i(\"' in response.text:\n",
    "        # Extract the standard YouTube video ID from the response\n",
    "        video_id = response.text.split('\"')[3]\n",
    "        return video_id\n",
    "    else:\n",
    "        # Log an error or handle it as appropriate\n",
    "        print(f\"Error retrieving video ID for {encoded_id}: {response.text}\")\n",
    "        return '200'\n",
    "\n",
    "youtube_urls = []\n",
    "for encoded_id in vid_ids:\n",
    "    video_id = translate_video_id(encoded_id)\n",
    "    if video_id:\n",
    "        youtube_url = f\"https://www.youtube.com/watch?v={video_id}\"\n",
    "        youtube_urls.append(youtube_url)\n",
    "\n",
    "# Print or use the YouTube URLs\n",
    "for url in youtube_urls:\n",
    "    print(url)\n"
   ]
  },
  {
   "cell_type": "code",
   "execution_count": null,
   "id": "93e997aa",
   "metadata": {
    "collapsed": false,
    "jupyter": {
     "outputs_hidden": false
    },
    "pycharm": {
     "name": "#%%\n"
    }
   },
   "outputs": [],
   "source": [
    "DATA_PATH = \"/Users/runzhou/Desktop/youtube/data/\"\n",
    "# Read in vocabulary for human-rated mapping of numeric label to text label for the video\n",
    "vocab = pd.read_csv(DATA_PATH + 'vocabulary.csv')\n",
    "\n",
    "# Create a pandas dataframe to store the segment-rated frame-level contextual data and embeddings\n",
    "df = pd.DataFrame()\n",
    "\n",
    "for i, encoded_id in enumerate(vid_ids):\n",
    "    video_id = translate_video_id(encoded_id)\n",
    "    if video_id:\n",
    "        youtube_url = f\"https://www.youtube.com/watch?v={video_id}\"\n",
    "    \n",
    "    text_labels = [vocab[vocab['Index'] == label]['Name'].values[0] for label in labels[i]]\n",
    "    wiki_descriptions = [vocab[vocab['Index'] == label]['WikiDescription'].values[0] for label in labels[i]]\n",
    "    text_segment_labels = [vocab[vocab['Index'] == label]['Name'].values[0] for label in segment_labels[i]]\n",
    "    df = pd.concat([df, pd.DataFrame([{'labels': labels[i],\n",
    "                    'text_labels': text_labels,\n",
    "                    'url': youtube_url,\n",
    "                    'WikiDescription': wiki_descriptions,\n",
    "                    'text_segment_labels': text_segment_labels,\n",
    "                    'segment_labels': segment_labels[i],\n",
    "                    'segment_start_times': segment_start_times[i],\n",
    "                    'segment_end_times': segment_end_times[i],\n",
    "                    'mean_rgb': rgb[i],\n",
    "                    'mean_audio': audio[i]}])],\n",
    "                    ignore_index=True)\n",
    "\n",
    "# Display the DataFrame\n",
    "print(df)"
   ]
  },
  {
   "cell_type": "code",
   "execution_count": null,
   "id": "ed38f937",
   "metadata": {
    "collapsed": false,
    "jupyter": {
     "outputs_hidden": false
    },
    "pycharm": {
     "name": "#%%\n"
    }
   },
   "outputs": [],
   "source": [
    "df.head(5)"
   ]
  },
  {
   "cell_type": "markdown",
   "id": "6e2587cf",
   "metadata": {
    "collapsed": false,
    "jupyter": {
     "outputs_hidden": false
    },
    "pycharm": {
     "name": "#%% md\n"
    }
   },
   "source": [
    "#### Build a generic RAG system"
   ]
  },
  {
   "cell_type": "code",
   "execution_count": null,
   "id": "8ffeb5dd",
   "metadata": {
    "collapsed": false,
    "jupyter": {
     "outputs_hidden": false
    },
    "pycharm": {
     "name": "#%%\n"
    }
   },
   "outputs": [],
   "source": [
    "#!sudo apt-get install build-essential libssl-dev python3-dev\n",
    "#!python -m pip install --upgrade pip setuptools wheel\n",
    "#!python -m pip install grpcio\n",
    "\n",
    "#!python -m pip install chromadb\n",
    "\n",
    "#!python --version"
   ]
  },
  {
   "cell_type": "code",
   "execution_count": null,
   "id": "1f9a64fd",
   "metadata": {
    "collapsed": false,
    "jupyter": {
     "outputs_hidden": false
    },
    "pycharm": {
     "name": "#%%\n"
    }
   },
   "outputs": [],
   "source": [
    "df.head(10)"
   ]
  },
  {
   "cell_type": "code",
   "execution_count": null,
   "id": "0975de40",
   "metadata": {
    "collapsed": false,
    "jupyter": {
     "outputs_hidden": false
    },
    "pycharm": {
     "name": "#%%\n"
    }
   },
   "outputs": [],
   "source": [
    "import chromadb\n",
    "\n",
    "# Initialize the ChromaDB client\n",
    "chroma_client = chromadb.Client()\n",
    "\n",
    "#Create a collections to store your embeddings, documents, and any additional metadata. \n",
    "collection = chroma_client.get_or_create_collection(name='rgb_collection')\n",
    "\n",
    "# Store embeddings in ChromaDB\n",
    "for i, row in df.iterrows():\n",
    "    # Create a unique ID for each embedding\n",
    "    id = f'{i}'\n",
    "\n",
    "    # Get info of each row\n",
    "    metadatas_dict = {\n",
    "    #'labels': row['labels'],\n",
    "    #'text_labels': row['text_labels'],\n",
    "    #'segment_labels': row['segment_labels'],\n",
    "    #'text_segment_labels': row['text_segment_labels'],\n",
    "    #'segment_start_times': row['segment_start_times'],\n",
    "    #'segment_end_times': row['segment_end_times'],\n",
    "    'url': row['url'],\n",
    "    'wiki': row['WikiDescription'][0]}\n",
    "\n",
    "    # Store the embedding in ChromaDB\n",
    "    collection.add(\n",
    "        embeddings=row['mean_rgb'],\n",
    "        metadatas=metadatas_dict,\n",
    "        ids=id\n",
    "    )\n",
    "\n",
    "print('Embeddings stored in ChromaDB successfully.')\n"
   ]
  },
  {
   "cell_type": "code",
   "execution_count": null,
   "id": "9dbcd69b",
   "metadata": {
    "collapsed": false,
    "jupyter": {
     "outputs_hidden": false
    },
    "pycharm": {
     "name": "#%%\n"
    }
   },
   "outputs": [],
   "source": [
    "# get items from a collection\n",
    "collection.peek()\n",
    "\n"
   ]
  },
  {
   "cell_type": "code",
   "execution_count": null,
   "id": "787535f9",
   "metadata": {
    "collapsed": false,
    "jupyter": {
     "outputs_hidden": false
    },
    "pycharm": {
     "name": "#%%\n"
    }
   },
   "outputs": [],
   "source": [
    "# do nearest neighbor search to find similar embeddings or documents, supports filtering\n",
    "collection.query(\n",
    "    query_embeddings=rgb[3],\n",
    "    n_results=2\n",
    "    #where={\"style\": \"style2\"}\n",
    ")"
   ]
  },
  {
   "cell_type": "code",
   "execution_count": null,
   "id": "8751308a",
   "metadata": {
    "collapsed": false,
    "jupyter": {
     "outputs_hidden": false
    },
    "pycharm": {
     "name": "#%%\n"
    }
   },
   "outputs": [],
   "source": [
    "df.iloc[6]"
   ]
  },
  {
   "cell_type": "code",
   "execution_count": null,
   "id": "8e321aa4",
   "metadata": {
    "collapsed": false,
    "jupyter": {
     "outputs_hidden": false
    },
    "pycharm": {
     "name": "#%%\n"
    }
   },
   "outputs": [],
   "source": [
    "df.iloc[2]"
   ]
  },
  {
   "cell_type": "code",
   "execution_count": null,
   "id": "14a3e1e4",
   "metadata": {
    "collapsed": false,
    "jupyter": {
     "outputs_hidden": false
    },
    "pycharm": {
     "name": "#%%\n"
    }
   },
   "outputs": [],
   "source": [
    "#!pip install youtube_transcript_api"
   ]
  },
  {
   "cell_type": "code",
   "execution_count": null,
   "id": "00d80393",
   "metadata": {
    "collapsed": false,
    "jupyter": {
     "outputs_hidden": false
    },
    "pycharm": {
     "name": "#%%\n"
    }
   },
   "outputs": [],
   "source": [
    "youtube_urls\n",
    "\n",
    "# https://www.youtube.com/watch?v=h06wB5JlyNg\n"
   ]
  },
  {
   "cell_type": "code",
   "execution_count": null,
   "id": "7a11634a",
   "metadata": {
    "collapsed": false,
    "jupyter": {
     "outputs_hidden": false
    },
    "pycharm": {
     "name": "#%%\n"
    }
   },
   "outputs": [],
   "source": [
    "#!pip install google-api-python-client\n",
    "#!pip install pytube"
   ]
  }
 ],
 "metadata": {
  "kernelspec": {
   "display_name": "Python 3 (ipykernel)",
   "language": "python",
   "name": "python3"
  },
  "language_info": {
   "codemirror_mode": {
    "name": "ipython",
    "version": 3
   },
   "file_extension": ".py",
   "mimetype": "text/x-python",
   "name": "python",
   "nbconvert_exporter": "python",
   "pygments_lexer": "ipython3",
   "version": "3.11.5"
  },
  "vscode": {
   "interpreter": {
    "hash": "32b3b13f6dda0be295b9e7160de0b4c0c436ec932f40cd360385d0b4c2b2d6ae"
   }
  }
 },
 "nbformat": 4,
 "nbformat_minor": 5
}
